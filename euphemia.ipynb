{
 "cells": [
  {
   "cell_type": "code",
   "execution_count": 27,
   "metadata": {},
   "outputs": [],
   "source": [
    "import pulp\n",
    "from pulp import lpSum\n",
    "import numpy as np\n",
    "import pandas as pd\n",
    "\n",
    "pulp.LpSolverDefault.msg = 0"
   ]
  },
  {
   "cell_type": "code",
   "execution_count": 40,
   "metadata": {},
   "outputs": [],
   "source": [
    "N = 3\n",
    "PTDF = np.array((0.33, 0.67, 0.33, -0.44, 0.44, 0.56, 0, 0, 0)).reshape(3,3).T\n",
    "RAM = np.array((1000,1000,1000))\n",
    "cost_per_MW = np.array((100, 200, 300))\n",
    "demand = np.array((1500, 1500, 1500))"
   ]
  },
  {
   "cell_type": "code",
   "execution_count": 41,
   "metadata": {},
   "outputs": [
    {
     "data": {
      "text/plain": [
       "1"
      ]
     },
     "execution_count": 41,
     "metadata": {},
     "output_type": "execute_result"
    }
   ],
   "source": [
    "model = pulp.LpProblem(\"Constrained_maximisation\", pulp.LpMinimize)\n",
    "supply = [\n",
    "            pulp.LpVariable(\"z{}\".format(i), lowBound=-5000, upBound=5000, cat='Integer') for i in range(N)\n",
    "        ]\n",
    "\n",
    "model += lpSum(((supply[i])*cost_per_MW[i] for i in range(N)))\n",
    "\n",
    "row_products = np.dot(PTDF, supply)\n",
    "for i in range(PTDF.shape[0]):\n",
    "    row_product = pulp.lpSum([PTDF[i][j] * (supply[j]-demand[j]) for j in range(PTDF.shape[1])])\n",
    "    model += row_product <= RAM[i]\n",
    "\n",
    "model += lpSum((demand-supply[j]) for j in range(N)) == 0\n",
    "model.solve()"
   ]
  },
  {
   "cell_type": "code",
   "execution_count": 47,
   "metadata": {},
   "outputs": [
    {
     "name": "stdout",
     "output_type": "stream",
     "text": [
      "Status: Optimal\n",
      "net poistion in zone 0: 1999.0, supply in zone 0: 3499.0\n",
      "net poistion in zone 1: -772.0, supply in zone 1: 728.0\n",
      "net poistion in zone 2: -1227.0, supply in zone 2: 273.0\n"
     ]
    }
   ],
   "source": [
    "print(f\"Status: {pulp.LpStatus[model.status]}\")\n",
    "for j in range(N):\n",
    "    print(f\"net poistion in zone {j}: {supply[j].value()-demand[j]}, supply in zone {j}: {supply[j].value()}\")"
   ]
  },
  {
   "cell_type": "code",
   "execution_count": 50,
   "metadata": {},
   "outputs": [
    {
     "data": {
      "text/plain": [
       "[659.6700000000001, -432.32000000000005, -0.0]"
      ]
     },
     "execution_count": 50,
     "metadata": {},
     "output_type": "execute_result"
    }
   ],
   "source": [
    "[PTDF[i][j] * (supply[j].value()-demand[j]) for j in range(PTDF.shape[1])]"
   ]
  },
  {
   "cell_type": "code",
   "execution_count": 11,
   "metadata": {},
   "outputs": [
    {
     "data": {
      "text/plain": [
       "array([[ 330., -440.,    0.],\n",
       "       [ 670.,  440.,    0.],\n",
       "       [ 330.,  560.,    0.]])"
      ]
     },
     "execution_count": 11,
     "metadata": {},
     "output_type": "execute_result"
    }
   ],
   "source": [
    "np.multiply(PTDF, RAM)"
   ]
  },
  {
   "cell_type": "code",
   "execution_count": null,
   "metadata": {},
   "outputs": [],
   "source": [
    "import pulp\n",
    "from pulp import lpSum\n",
    "import numpy as np\n",
    "import pandas as pd"
   ]
  }
 ],
 "metadata": {
  "kernelspec": {
   "display_name": "Python 3",
   "language": "python",
   "name": "python3"
  },
  "language_info": {
   "codemirror_mode": {
    "name": "ipython",
    "version": 3
   },
   "file_extension": ".py",
   "mimetype": "text/x-python",
   "name": "python",
   "nbconvert_exporter": "python",
   "pygments_lexer": "ipython3",
   "version": "3.10.6"
  },
  "orig_nbformat": 4
 },
 "nbformat": 4,
 "nbformat_minor": 2
}
